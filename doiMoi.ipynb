{
  "nbformat": 4,
  "nbformat_minor": 0,
  "metadata": {
    "colab": {
      "name": "doiMoi.ipynb",
      "provenance": [],
      "authorship_tag": "ABX9TyPB/83nf2uFxxe2sJ/4X2Iq",
      "include_colab_link": true
    },
    "kernelspec": {
      "name": "python3",
      "display_name": "Python 3"
    },
    "language_info": {
      "name": "python"
    }
  },
  "cells": [
    {
      "cell_type": "markdown",
      "metadata": {
        "id": "view-in-github",
        "colab_type": "text"
      },
      "source": [
        "<a href=\"https://colab.research.google.com/github/irissphan/CS112.L21.KHTN/blob/G%C3%AC-c%C5%A9ng-%C4%91%C6%B0%E1%BB%A3c/doiMoi.ipynb\" target=\"_parent\"><img src=\"https://colab.research.google.com/assets/colab-badge.svg\" alt=\"Open In Colab\"/></a>"
      ]
    },
    {
      "cell_type": "markdown",
      "metadata": {
        "id": "2_qYS5VI5SDT"
      },
      "source": [
        "#**Đề bài**\n",
        "Thành phố quyết định chặt hạ hết n cây xanh hiện có trong thành phố để trồng chỉ một loại cây mới. Nhiệm vụ được giao cho Công ty Cây xanh thành phố. Do hạn chế về thiết bị Công ty chỉ tổ chức được 2 đội đốn hạ cây. Đội I hạ được a cây mỗi ngày, nhưng cứ mối ngày thứ k thì phải nghỉ để bảo dưỡng kỹ thuật, tức là đội I sẽ nghỉ vào các ngày k, 2k, 3k, . . . Đội II hạ được b cây mỗi ngày, nhưng cứ mỗi ngày thứ m thì phải nghỉ để bảo dưỡng kỹ thuật, tức là đội II sẽ nghỉ vào các ngày m, 2m, 3m, . . . Ở ngày nghỉ, số cây chặt hạ của đội sẽ là 0. Cả hai đội bắt đầu công việc vào cùng một ngày và làm việc song song với nhau.\n",
        "\n",
        "Công việc trồng cây mới sẽ bắt đầu sau khi toàn bộ cây cũ đã bị đốn hạ.\n",
        "\n",
        "Hãy xác định sau bao nhiêu ngày thì có thể bắt đầu việc trồng mới cây.\n",
        "\n",
        "**Dữ liệu**: Vào từ thiết bị nhập chuẩn gồm một dòng chứa 5 số nguyên a, k, b, m và n (1 ≤ a, b ≤ 109, 2 ≤ k, m ≤ 1018, 1 ≤ n ≤ 1018).\n",
        "\n",
        "**Kết quả**: Đưa ra thiết bị xuất chuẩn một số nguyên – số ngày tính được.\n",
        "\n",
        "Ví dụ:\n",
        "\n",
        "INPUT\n",
        "\n",
        "2 4 3 3 25\n",
        "\n",
        "OUTPUT\n",
        "\n",
        "7\n",
        "\n",
        "#**Abstraction**\n",
        "Mỗi đơn vị thời gian, đại lượng $x$ và $y$ tăng lần lượt $a$ và $b$ đơn vị, cứ mỗi $k$ và $m$ đơn vị thời gian, đại lượng $x$ và $y$ giảm lần lượt $a$ và $b$ đơn vị, sau ít nhất bao nhiêu đơn vị thời gian thì $x+y \\geq n$?\n",
        "#**Decomposition**\n",
        "Đối với bài toán này ta phải giải quyết 2 bài toán con:\n",
        "- Gọi $t$ là thời điểm cần tìm.\n",
        "- Chưa xét đến việc giảm đại lượng sau chu kỳ $k$ và $m$, tổng $S = t\\times(a+b)$.\n",
        "- Tại thời điểm $t$, tổng đại lượng bị giảm là $T = a\\lfloor \\frac{t}{k} \\rfloor + b\\lfloor \\frac{t}{m} \\rfloor$.\n",
        "- Vậy tại thời điểm $t$, ta có $x+y = S - T = t\\times(a+b) - a\\lfloor \\frac{t}{k} \\rfloor - b\\lfloor \\frac{t}{m} \\rfloor$.\n",
        "- Cần tìm nghiệm nguyên nhỏ nhất cho hệ phương trình $t\\times(a+b) - a\\lfloor \\frac{t}{k} \\rfloor - b\\lfloor \\frac{t}{m} \\rfloor \\geq n$.\n",
        "\n",
        "#**Pattern Recognition**\n",
        "Nhận thấy hàm số rời rạc $f(t) = t\\times(a+b) - a\\lfloor \\frac{t}{k} \\rfloor - b\\lfloor \\frac{t}{m} \\rfloor$ luôn đồng biến $\\forall \\; t \\in \\mathbb{Z}$.\n",
        "Với $\\lfloor x \\rfloor$ là phần nguyên của $x$.\n",
        "\n",
        "$\\Rightarrow$ Có thể áp dụng thuật toán tìm kiếm nhị phân để tìm nghiệm nguyên $t$ nhỏ nhất thỏa mãn $f(t) \\geq n$.\n",
        "\n",
        "#**Algorithm Design**"
      ]
    },
    {
      "cell_type": "code",
      "metadata": {
        "colab": {
          "base_uri": "https://localhost:8080/"
        },
        "id": "Zgr7YTts5QaU",
        "outputId": "fb0104df-7346-4ac5-a462-8f3eaae9dcd6"
      },
      "source": [
        "a, k, b, m, n = [int(x) for x in input().split()]\n",
        "l, r = 1, 10**18\n",
        "\n",
        "def check(days):\n",
        "    if a*(days - days//k) + b*(days - days//m) >= n:\n",
        "        return True\n",
        "    else:\n",
        "        return False\n",
        "\n",
        "while l <= r:\n",
        "    mid = (l+r) // 2\n",
        "    if check(mid):\n",
        "        res = mid\n",
        "        r = mid - 1\n",
        "    else:\n",
        "        l = mid + 1\n",
        "\n",
        "print(res)"
      ],
      "execution_count": 2,
      "outputs": [
        {
          "output_type": "stream",
          "text": [
            "2 4 3 3 25\n",
            "7\n"
          ],
          "name": "stdout"
        }
      ]
    }
  ]
}