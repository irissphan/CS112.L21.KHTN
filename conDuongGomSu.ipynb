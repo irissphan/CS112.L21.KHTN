{
  "nbformat": 4,
  "nbformat_minor": 0,
  "metadata": {
    "colab": {
      "name": "conDuongGomSu.ipynb",
      "provenance": [],
      "collapsed_sections": [],
      "authorship_tag": "ABX9TyMlhcE2MeIYkdisClKsANsf",
      "include_colab_link": true
    },
    "kernelspec": {
      "name": "python3",
      "display_name": "Python 3"
    },
    "language_info": {
      "name": "python"
    }
  },
  "cells": [
    {
      "cell_type": "markdown",
      "metadata": {
        "id": "view-in-github",
        "colab_type": "text"
      },
      "source": [
        "<a href=\"https://colab.research.google.com/github/irissphan/CS112.L21.KHTN/blob/G%C3%AC-c%C5%A9ng-%C4%91%C6%B0%E1%BB%A3c/conDuongGomSu.ipynb\" target=\"_parent\"><img src=\"https://colab.research.google.com/assets/colab-badge.svg\" alt=\"Open In Colab\"/></a>"
      ]
    },
    {
      "cell_type": "markdown",
      "metadata": {
        "id": "9ocDxETW3pjN"
      },
      "source": [
        "#**Đề bài**\n",
        "**Dữ liệu:**\n",
        "\n",
        "Dòng đầu tiên chứa một số nguyên n – số lượng lô của con đê (2 ≤ n ≤ 105),\n",
        "Dòng thứ 2 chứa n số nguyên a1, a2, . . ., an – màu của các lô (1 ≤ ai ≤ 50 000, i = 1 ÷ n).\n",
        "\n",
        "**Kết quả:**\n",
        "\n",
        "Dòng đầu tiên chứa số nguyên m – số lượng phương án khác nhau chia con đường thành các bức tranh, nếu không có cách phân chia để đảm bảo phân biệt tranh của đúng 2 nhóm thì đưa ra số -1. Nếu có cách phân biệt thì ở mỗi dòng tiếp theo đưa ra 3 số nguyên k, p và q – độ rộng bức tranh, số tranh do nhóm 1 thực hiện và số tranh do nhóm 2 thực hiện, thông tin đưa ra theo thứ tự tăng dần của k và ở mỗi dòng có p ≥ q > 0.\n",
        "\n",
        "**Ví dụ:**\n",
        "\n",
        "Input\n",
        "\n",
        "9\n",
        "\n",
        "1 2 3 6 4 9 3 1 2\n",
        "\n",
        "Output\n",
        "\n",
        "1\n",
        "\n",
        "3 2 1\n",
        "\n"
      ]
    },
    {
      "cell_type": "markdown",
      "metadata": {
        "id": "vVABu5Rr4Le7"
      },
      "source": [
        "#**Abstraction**\n",
        "Cho dãy a đếm số cách chia dãy làm K dãy con với độ dài bằng nhau sao cho chỉ còn 2 loại dãy con khác tính chất nhau, 2 dãy con X,Y cùng tính chất khi và chỉ khi tồn tại hoán vị X sao cho bằng Y.\n",
        "#**Decomposition**\n",
        "Để kiểm tra dãy X có cùng tính chất với Y hay không ta chỉ cần xét xem tất cả các số trong dãy X, mỗi số có xuất hiện trong dãy X với cùng số lượng mà chúng xuất hiện trong Y hay không.\n",
        "#**Pattern Recognition**\n",
        "Với bài toán quen thuộc này ta nghĩ ngay đến HASH.\n",
        "\n",
        "Ta đưa hệ cơ số 10 về hệ cơ số 50000 (**base**).\n",
        "\n",
        "Đây chính là tư tưởng của thuật toán: đổi 2 dãy từ hệ cơ số **base**, rồi đem so sánh. Tuy nhiên, chúng ta nhận thấy rằng, khi đổi 1 xâu ra biểu diễn ở hệ cơ số **base**, biểu diễn này có thể rất lớn và nằm ngoài phạm vi lưu trữ số nguyên của máy tính.\n",
        "\n",
        "Để khắc phục điều này, chúng ta chuyển sang so sánh 2 biểu diễn của 2 dãy ở hệ cơ số 10 sau khi lấy phần dư cho một số nguyên đủ lớn. Cụ thể hơn: nếu biểu diễn trong cơ số **base** của dãy a là x và biểu diễn trong cơ số **base** của dãy b là y, chúng ta sẽ coi a cùng tính chất b ‘khi và chỉ khi’ **x mod MOD** = **y mod MOD** trong đó **MOD** là một số nguyên đủ lớn (nếu giải thuật python có thể bỏ qua bước này vì python cho phép tính toán số lớn).\n",
        "\n",
        "Để cài đặt ý tưởng này, chúng ta cần khởi tạo **base^x mod MOD** với **$(0 \\leq x \\leq base)$** và mã Hash của tất cả những tiền tố của X, cụ thể là mã Hash của những chuỗi $X[1..i]$ với $(1 \\leq i \\leq m)$.\n",
        "\n",
        "Việc cuối cùng cần làm là duyệt K và xét xem có bao nhiêu số K thỏa theo yêu cầu đề bài.\n",
        "#**Algorithm Design**\n"
      ]
    },
    {
      "cell_type": "code",
      "metadata": {
        "colab": {
          "base_uri": "https://localhost:8080/"
        },
        "id": "AJ6ohiuK3R28",
        "outputId": "e230a629-2bf5-4975-b616-27920112bb6f"
      },
      "source": [
        "import math\n",
        "n = int(input())\n",
        "a = [int(x) for x in input().split()]\n",
        "a = [0] + a\n",
        "sum = [0]\n",
        "\n",
        "for i in range(1, len(a)):\n",
        "    sum.append(sum[i-1] + a[i]**100)\n",
        "\n",
        "def check(i):\n",
        "    sumA, cntA, sumB, cntB = sum[i], 1, -1, 0\n",
        "    for j in range(2*i, len(sum), i):\n",
        "        if sum[j]-sum[j-i] == sumA:\n",
        "            cntA += 1\n",
        "        elif sumB == -1:\n",
        "            sumB = sum[j]-sum[j-i]\n",
        "            cntB = 1\n",
        "        elif sum[j]-sum[j-i] == sumB:\n",
        "            cntB += 1\n",
        "        else:\n",
        "            return\n",
        "    if cntB > 0:\n",
        "        res.append([i, cntA, cntB])\n",
        "\n",
        "res = []\n",
        "for i in range(1, int(math.sqrt(n))+1):\n",
        "  if n % i == 0:\n",
        "      check(i)\n",
        "      if i**2 == n:\n",
        "          continue\n",
        "      check(int(n/i))\n",
        "\n",
        "print(len(res) if len(res) > 0 else -1)\n",
        "res.sort(key=lambda k : k[0])\n",
        "for i in range(len(res)):\n",
        "    print(res[i][0], res[i][1], res[i][2])"
      ],
      "execution_count": 2,
      "outputs": [
        {
          "output_type": "stream",
          "text": [
            "9\n",
            "1 2 3 6 4 9 3 1 2\n",
            "1\n",
            "3 2 1\n"
          ],
          "name": "stdout"
        }
      ]
    }
  ]
}