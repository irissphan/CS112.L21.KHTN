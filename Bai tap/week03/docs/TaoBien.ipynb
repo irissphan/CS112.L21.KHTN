{
  "nbformat": 4,
  "nbformat_minor": 0,
  "metadata": {
    "kernelspec": {
      "display_name": "Python 3",
      "language": "python",
      "name": "python3"
    },
    "language_info": {
      "codemirror_mode": {
        "name": "ipython",
        "version": 3
      },
      "file_extension": ".py",
      "mimetype": "text/x-python",
      "name": "python",
      "nbconvert_exporter": "python",
      "pygments_lexer": "ipython3",
      "version": "3.8.2"
    },
    "colab": {
      "name": "TaoBien.ipynb",
      "provenance": [],
      "collapsed_sections": []
    }
  },
  "cells": [
    {
      "cell_type": "markdown",
      "metadata": {
        "id": "Au6wzwjxqgPd"
      },
      "source": [
        "# **Đề bài**\n",
        "Tảo biển sinh sản rất nhanh khi có môi trường thuận lợi với chúng và có những loài còn tiết ra môi trường những chất độc hại.\n",
        "\n",
        "Một loại tảo nâu trong môi trường nước bị ô nhiễm nặng sinh sản theo quy luật sau:\n",
        "\n",
        "- Ngày đầu tiên (ngày 0) có $n$ cá thể ở mức 1,\n",
        "- Ở mỗi ngày tiếp theo, mỗi cá thể mức $i$ sinh ra $i$ cá thể mức 1, các cá thể mới sinh sẽ sinh sôi, phát triển từ ngày hôm sau.\n",
        "- Bản thân các cá thể mức $i$ phát triển thành mức $i+1$ và chu kỳ phát triển trong ngày chấm dứt.\n",
        "Hãy xác định sau $k$ ngày trong nước biển có bao nhiêu cá thể.\n",
        "\n",
        "**Dữ liệu**: Vào từ thiết bị nhập chuẩn gồm một dòng chứa 2 số nguyên $n$ và $k$ $(1 ≤ n ≤ 1000, 1 ≤ k ≤ 10^{18})$.\n",
        "\n",
        "**Kết quả**: Đưa ra thiết bị xuất chuẩn một số nguyên – số lượng cá thể  tảo theo mô đun $10^9+7$.\n",
        "\n",
        "\n"
      ]
    },
    {
      "cell_type": "markdown",
      "metadata": {
        "id": "h0wjAeJ5U5m3"
      },
      "source": [
        "# **Decomposition**\n",
        "Quá trình sinh sản và phát triển được tổng hợp ở bảng sau:\n",
        "![alt text](https://drive.google.com/uc?id=1fMO9H36jJP5iviyKgEpkM-Y4Lfj44xLN)\n",
        "\n",
        "Ta thấy được cột **Tổng số tảo** và số cá thể **Mức 1** xen kẽ qua từng ngày chính là dãy Fibonacci: 1, 1, 2, 3, 5, 8, 13, 21, 34,... (đã được rút hệ số chung ***n***). \n",
        "\n",
        "Có thể suy ra được từ ***1*** cá thể ban đầu, **Tổng số tảo** ngày thứ ***k*** chính là số Fibonacci thứ ***2k+1***, ký hiệu: ***F(2k+1)***.\n",
        "\n",
        "Vậy **Tổng số tảo** sau ***k*** ngày của ***n*** cá thể ban đầu chính là **n*F(2k+1)**.\n"
      ]
    },
    {
      "cell_type": "markdown",
      "metadata": {
        "id": "YNa18sm_qzel"
      },
      "source": [
        "# **Abstraction**\n",
        "Cho cặp số $(n, k)$, tính ${n*F_{2k+1}}$, với $F_{2k+1}$ là số Fibonacci thứ $2k+1$."
      ]
    },
    {
      "cell_type": "markdown",
      "metadata": {
        "id": "SAUxMB0NryKI"
      },
      "source": [
        "# **Pattern Recognition**\n",
        "Tìm số Fibonacci thứ $k$ trong dãy Fibonacci.\n"
      ]
    },
    {
      "cell_type": "markdown",
      "metadata": {
        "id": "1UiPt5bPr1QB"
      },
      "source": [
        "# **Algorithm Design & Programming**\n",
        "Sử dụng phương pháp nhân ma trận."
      ]
    },
    {
      "cell_type": "code",
      "metadata": {
        "id": "5AGkZvzxqgPe",
        "colab": {
          "base_uri": "https://localhost:8080/"
        },
        "outputId": "93846d0e-d982-41d0-b03a-3335d6395419"
      },
      "source": [
        "def mat_mul(matA, matB):\n",
        "    matC = [[0, 0], [0, 0]]\n",
        "    for i in range(2):\n",
        "        for j in range(2):\n",
        "            for k in range(2):\n",
        "                matC[i][j] = (matC[i][j] + (matA[i][k] * matB[k][j]) % (10**9+7))% (10**9+7)\n",
        "    return matC\n",
        "\n",
        "def mat_power(matA, k):\n",
        "    if k == 0:\n",
        "        return [[1, 0], [0, 1]]\n",
        "    elif k == 1:\n",
        "        return matA\n",
        "    else:\n",
        "        tmp = mat_power(matA, k//2)\n",
        "        if k%2 == 1:\n",
        "            return mat_mul(mat_mul(tmp, tmp), matA)\n",
        "        else:\n",
        "            return mat_mul(tmp, tmp)\n",
        "\n",
        "n, k = [int(x) for x in input().split()]\n",
        "\n",
        "matA = [[0, 1], [1, 1]]\n",
        "matA = mat_power(matA, k*2)\n",
        "print(((matA[0][0] + matA[0][1]) * n) % (10**9+7))"
      ],
      "execution_count": null,
      "outputs": [
        {
          "output_type": "stream",
          "text": [
            "3 2\n",
            "15\n"
          ],
          "name": "stdout"
        }
      ]
    },
    {
      "cell_type": "markdown",
      "metadata": {
        "id": "H9reVVX3UILp"
      },
      "source": [
        "# **Độ phức tạp**\n",
        "$O(log(n))$"
      ]
    }
  ]
}