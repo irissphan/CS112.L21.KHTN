{
  "nbformat": 4,
  "nbformat_minor": 0,
  "metadata": {
    "kernelspec": {
      "display_name": "Python 3",
      "language": "python",
      "name": "python3"
    },
    "language_info": {
      "codemirror_mode": {
        "name": "ipython",
        "version": 3
      },
      "file_extension": ".py",
      "mimetype": "text/x-python",
      "name": "python",
      "nbconvert_exporter": "python",
      "pygments_lexer": "ipython3",
      "version": "3.8.2"
    },
    "colab": {
      "name": "tao_bien.ipynb",
      "provenance": [],
      "collapsed_sections": []
    }
  },
  "cells": [
    {
      "cell_type": "markdown",
      "metadata": {
        "id": "Au6wzwjxqgPd"
      },
      "source": [
        "# Tảo biển\n",
        "\n",
        "**Đề bài**: Tảo biển sinh sản rất nhanh khi có môi trường thuận lợi với chúng và có những loài còn tiết ra môi trường những chất độc hại.\n",
        "\n",
        "Một loại tảo nâu trong môi trường nước bị ô nhiễm nặng sinh sản theo quy luật sau:\n",
        "\n",
        "- Ngày đầu tiên (ngày 0) có $n$ cá thể ở mức 1,\n",
        "- Ở mỗi ngày tiếp theo, mỗi cá thể mức $i$ sinh ra $i$ cá thể mức 1, các cá thể mới sinh sẽ sinh sôi, phát triển từ ngày hôm sau.\n",
        "- Bản thân các cá thể mức $i$ phát triển thành mức $i+1$ và chu kỳ phát triển trong ngày chấm dứt.\n",
        "Hãy xác định sau $k$ ngày trong nước biển có bao nhiêu cá thể.\n",
        "\n",
        "**Dữ liệu**: Vào từ thiết bị nhập chuẩn gồm một dòng chứa 2 số nguyên $n$ và $k$ $(1 ≤ n ≤ 1000, 1 ≤ k ≤ 10^{18})$.\n",
        "\n",
        "**Kết quả**: Đưa ra thiết bị xuất chuẩn một số nguyên – số lượng cá thể  tảo theo mô đun $10^9+7$.\n",
        "\n",
        "\n"
      ]
    },
    {
      "cell_type": "markdown",
      "metadata": {
        "id": "ZDLRxDAQqwLr"
      },
      "source": [
        "## Decomposition (Phân rã)\n",
        "<font color='yellow'>Add later ... </font>"
      ]
    },
    {
      "cell_type": "markdown",
      "metadata": {
        "id": "YNa18sm_qzel"
      },
      "source": [
        "## Abstraction (Trừu tượng hóa)\n",
        "\n",
        "bài toán được đưa về bài toán cụ thể hơn:\n",
        "\n",
        "Cho cặp số $(n, k)$, tìm số Fibonacci thứ $2k$ và kết quả bài toán là ${n*F_{2k}}$\n"
      ]
    },
    {
      "cell_type": "markdown",
      "metadata": {
        "id": "SAUxMB0NryKI"
      },
      "source": [
        "## Pattern Recognition (Tìm quy luật)\n",
        "<font color='yellow'>Tìm số fibonacci thứ $k$ trong dãy fibonacci</font>\n"
      ]
    },
    {
      "cell_type": "markdown",
      "metadata": {
        "id": "1UiPt5bPr1QB"
      },
      "source": [
        "## Algorithm designed (Trình bày giải thuật)"
      ]
    },
    {
      "cell_type": "markdown",
      "metadata": {
        "id": "B8ygdv_XwHNH"
      },
      "source": [
        "## Đánh giá độ phức tạp thuật toán"
      ]
    },
    {
      "cell_type": "markdown",
      "metadata": {
        "id": "Yfr04PAUwHgA"
      },
      "source": [
        "## Programming\n",
        "\n"
      ]
    },
    {
      "cell_type": "code",
      "metadata": {
        "id": "5AGkZvzxqgPe",
        "colab": {
          "base_uri": "https://localhost:8080/"
        },
        "outputId": "93846d0e-d982-41d0-b03a-3335d6395419"
      },
      "source": [
        "def mat_mul(matA, matB):\n",
        "    matC = [[0, 0], [0, 0]]\n",
        "    for i in range(2):\n",
        "        for j in range(2):\n",
        "            for k in range(2):\n",
        "                matC[i][j] = (matC[i][j] + (matA[i][k] * matB[k][j]) % (10**9+7))% (10**9+7)\n",
        "    return matC\n",
        "\n",
        "def mat_power(matA, k):\n",
        "    if k == 0:\n",
        "        return [[1, 0], [0, 1]]\n",
        "    elif k == 1:\n",
        "        return matA\n",
        "    else:\n",
        "        tmp = mat_power(matA, k//2)\n",
        "        if k%2 == 1:\n",
        "            return mat_mul(mat_mul(tmp, tmp), matA)\n",
        "        else:\n",
        "            return mat_mul(tmp, tmp)\n",
        "\n",
        "n, k = [int(x) for x in input().split()]\n",
        "\n",
        "matA = [[0, 1], [1, 1]]\n",
        "matA = mat_power(matA, k*2)\n",
        "print(((matA[0][0] + matA[0][1]) * n) % (10**9+7))"
      ],
      "execution_count": null,
      "outputs": [
        {
          "output_type": "stream",
          "text": [
            "3 2\n",
            "15\n"
          ],
          "name": "stdout"
        }
      ]
    }
  ]
}