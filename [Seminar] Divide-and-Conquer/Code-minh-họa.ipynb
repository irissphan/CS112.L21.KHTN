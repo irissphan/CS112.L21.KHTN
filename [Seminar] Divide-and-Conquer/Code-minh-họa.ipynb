{
  "nbformat": 4,
  "nbformat_minor": 0,
  "metadata": {
    "colab": {
      "name": "Divide and conquer.ipynb",
      "provenance": [],
      "collapsed_sections": []
    },
    "kernelspec": {
      "name": "python3",
      "display_name": "Python 3"
    },
    "language_info": {
      "name": "python"
    }
  },
  "cells": [
    {
      "cell_type": "markdown",
      "metadata": {
        "id": "C41cW_quyVar"
      },
      "source": [
        "# Exponential squaring\n",
        "\n"
      ]
    },
    {
      "cell_type": "markdown",
      "metadata": {
        "id": "I9Gry6mfyVat"
      },
      "source": [
        "**Problem:**\n",
        "\n",
        "Cho 2 số nguyên không âm $a, b$ với $a\\neq 0, 10^5 \\leq  b \\leq 10^{18}$. \n",
        "\n",
        "Tính $a^b$ mod $(10^9+7)$."
      ]
    },
    {
      "cell_type": "markdown",
      "metadata": {
        "id": "b1M2L0mfyVau"
      },
      "source": [
        "**Solution:**\n",
        "\n",
        "$\\begin{align}\n",
        "\ta^b &= a^{b/2} * a^{b/2} \\\\\n",
        "\t&= a^{b/4} * a^{b/4} * a^{b/4} * a^{b/4} \\\\\n",
        "\t&= \\space... \\\\\n",
        "\t&= \\underbrace{a * a * \\ldots * a}_{b\\text{-times}}\n",
        "\\end{align}$\n",
        "\n",
        "\n",
        "Từ đó, \n",
        "\n",
        "$\n",
        "a^b = \\begin{cases}\n",
        "        a^{b/2} * a^{b/2} \\text{ (nếu b chẵn)} \\\\\n",
        "        a^{b/2} * a^{b/2} * a \\text{ (nếu b lẻ)}\n",
        "      \\end{cases}\n",
        "$"
      ]
    },
    {
      "cell_type": "code",
      "metadata": {
        "colab": {
          "base_uri": "https://localhost:8080/"
        },
        "id": "IfQy1mOuyVav",
        "outputId": "1a40839d-9a6b-4cc8-b50f-818cfd1a8e2f"
      },
      "source": [
        "MOD = 10**9 + 7\n",
        "\n",
        "def pow(a, b):\n",
        "    if b == 0:\n",
        "        return 1\n",
        "    else:\n",
        "        power = pow(a, b//2)\n",
        "        if b % 2 == 0:\n",
        "          power = power * power\n",
        "        else:\n",
        "          power = power * power * a\n",
        "    return power % MOD\n",
        "\n",
        "print(pow(6,24))"
      ],
      "execution_count": null,
      "outputs": [
        {
          "output_type": "stream",
          "text": [
            "152947761\n"
          ],
          "name": "stdout"
        }
      ]
    },
    {
      "cell_type": "markdown",
      "metadata": {
        "id": "-4f_ELJvyVay"
      },
      "source": [
        "# Merge sort"
      ]
    },
    {
      "cell_type": "code",
      "metadata": {
        "colab": {
          "base_uri": "https://localhost:8080/"
        },
        "id": "U8_1WlKiyVa0",
        "outputId": "ef499b19-f763-4b9b-aebf-d6544c9ad017"
      },
      "source": [
        "# Định nghĩa hàm divide\n",
        "def divide(arr):\n",
        "  # Tìm mid là vị trí chính giữa mảng\n",
        "  mid = len(arr)//2\n",
        "  # Chia mảng ra thành 2 mảng con\n",
        "  L = arr[:mid]\n",
        "  R = arr[mid:]\n",
        "  return L, R\n",
        "\n",
        "# Định nghĩa hàm combine\n",
        "def combine(arr, L, R):\n",
        "  i = j = k = 0\n",
        "  while i < len(L) and j < len(R):\n",
        "    if L[i] < R[j]:\n",
        "      arr[k] = L[i]\n",
        "      i += 1\n",
        "    else:\n",
        "      arr[k] = R[j]\n",
        "      j += 1\n",
        "    k += 1\n",
        "  while i < len(L):\n",
        "    arr[k] = L[i]\n",
        "    i += 1\n",
        "    k += 1\n",
        "  while j < len(R):\n",
        "    arr[k] = R[j]\n",
        "    j += 1\n",
        "    k += 1\n",
        "\n",
        "# Định nghĩa hàm merge sort\n",
        "def mergeSort(arr):\n",
        "  if len(arr) <= 1:\n",
        "    return\n",
        "  else:\n",
        "    # Bước 1: DIVIDE\n",
        "    L, R = divide(arr)\n",
        "\n",
        "    # Bước 2: CONQUER\n",
        "    mergeSort(L)\n",
        "    mergeSort(R)\n",
        "\n",
        "    # Bước 3: COMBINE\n",
        "    combine(arr, L, R)\n",
        "\n",
        "# Định nghĩa hàm in mảng\n",
        "def printList(arr):\n",
        "\tfor i in range(len(arr)):\n",
        "\t\tprint(arr[i], end=\" \")\n",
        "\tprint()\n",
        "\n",
        "# Hàm main\n",
        "arr = [12, 11, 13, 5, 6, 7]\n",
        "print(\"Given array is\", end=\"\\n\")\n",
        "printList(arr)\n",
        "mergeSort(arr)\n",
        "print(\"Sorted array is: \", end=\"\\n\")\n",
        "printList(arr)\n"
      ],
      "execution_count": null,
      "outputs": [
        {
          "output_type": "stream",
          "text": [
            "Given array is\n",
            "12 11 13 5 6 7 \n",
            "Sorted array is: \n",
            "5 6 7 11 12 13 \n"
          ],
          "name": "stdout"
        }
      ]
    },
    {
      "cell_type": "markdown",
      "metadata": {
        "id": "ek-sIgLaweh5"
      },
      "source": [
        "# Karatsuba"
      ]
    },
    {
      "cell_type": "code",
      "metadata": {
        "colab": {
          "base_uri": "https://localhost:8080/"
        },
        "id": "Tcs3d4LXwwtS",
        "outputId": "374b705e-b2f8-4ca4-a8c1-2944b5156606"
      },
      "source": [
        "import math\n",
        "\n",
        "\n",
        "def karatsuba(x, y):\n",
        "    if x < 10 and y < 10:\n",
        "        return x * y\n",
        "\n",
        "    n = max(len(str(x)), len(str(y)))\n",
        "    m = int(math.ceil(float(n) / 2))\n",
        "\n",
        "    # divide x into two half\n",
        "    xh = int(math.floor(x / 10 ** m))\n",
        "    xl = int(x % (10 ** m))\n",
        "\n",
        "    # divide y into two half\n",
        "    yh = int(math.floor(y / 10 ** m))\n",
        "    yl = int(y % (10 ** m))\n",
        "\n",
        "    # Karatsuba's algorithm.\n",
        "    s1 = karatsuba(xh, yh)\n",
        "    s2 = karatsuba(yl, xl)\n",
        "    s3 = karatsuba(xh + xl, yh + yl)\n",
        "    s4 = s3 - s2 - s1\n",
        "\n",
        "    return int(s1 * (10 ** (m*2)) + s4 * (10 ** m) + s2)\n",
        "\n",
        "\n",
        "print('Result: ', karatsuba(1234, 8765))"
      ],
      "execution_count": null,
      "outputs": [
        {
          "output_type": "stream",
          "text": [
            "Result:  10816010\n"
          ],
          "name": "stdout"
        }
      ]
    }
  ]
}