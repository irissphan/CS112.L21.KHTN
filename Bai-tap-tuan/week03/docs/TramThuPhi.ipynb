{
  "nbformat": 4,
  "nbformat_minor": 0,
  "metadata": {
    "colab": {
      "name": "TramThuPhi.ipynb",
      "provenance": [],
      "collapsed_sections": [],
      "toc_visible": true
    },
    "kernelspec": {
      "name": "python3",
      "display_name": "Python 3"
    }
  },
  "cells": [
    {
      "cell_type": "markdown",
      "metadata": {
        "id": "Kk3G0cjUxoL3"
      },
      "source": [
        "# **Đề bài**\n",
        "\n",
        "BOT (Built-Operation-Transfer, có nghĩa: Xây dựng-Vận hành-Chuyển giao) là hình thức Chính phủ kêu gọi các công ty bỏ vốn xây dựng trước (Built) thông qua đấu thầu, sau đó khai thác vận hành một thời gian (Operation) và sau cùng là chuyển giao (Transfer) lại cho nhà nước sở tại.\n",
        "\n",
        "Đường cao tốc xuyên quốc gia được xây dựng theo hình thức BOT. Công ty Đa quốc gia Modern Highway trúng thầu, chia toàn bộ con đường thành n đoạn. Theo tính toán của Công ty sau khi chuyển giao con đường cho chính phủ sở tại quản lý thì lãi thu được ở đoạn đường thứ i là ai, ai có thể dương, âm hoặc bằng 0, tức là với từng đoạn con có thể lãi, lỗ hoặc hòa vốn. Từng nhóm các đoạn đường liên tiếp nhau (gọi tắt là khoảng) được chia cho các công ty con thực hiện. Công ty con ASEAM Highway hiện đang có trụ sở ở nước sở tại được quyền chọn trước khoảng tùy ý (có thể là cả con đường).\n",
        "\n",
        "Dĩ nhiên Ban Giám đốc ASEAM Highway muốn chọn khoảng bắt đầu từ đoạn $p$ đến hết đoạn $q$ mang lại lợi nhuận cao nhất hoặc lỗ ít nhất nếu không có khoảng nào cho lãi.\n",
        "\n",
        "Hãy chỉ ra khoảng cần chọn và lãi thu được. Nếu có nhiều cách chọn thì chỉ ra cách chọn có $p$ nhỏ nhất.\n",
        "\n",
        "**Dữ liệu**: Vào từ thiết bị nhập chuẩn:\n",
        "\n",
        "Dòng đầu tiên chứa số nguyên $n$ $(1 ≤ n ≤ 10^6)$,\n",
        "Dòng thứ 2 chứa n số nguyên $a_1, a_2, . . ., a_n$ $(0 ≤ |ai| ≤ 10^9, i = 1 ÷ n)$.\n",
        "\n",
        "**Kết quả**: Đưa ra thiết bị xuất chuẩn trên một dòng 2 số nguyên $p$, $q$ và lãi thu được."
      ]
    },
    {
      "cell_type": "markdown",
      "metadata": {
        "id": "7Al98xNPibYq"
      },
      "source": [
        "# **Abstraction**\n",
        "Cho một dãy số $a$ gồm $n$ phần tử, tìm cặp số $(i, j)$ sao cho biểu thức sau đạt giá trị lớn nhất.\n",
        "\n",
        "> $S_{i,j}$ = $a_{i}$ + $a_{i+1}$ + ... + $a_{j-1}$ + $a_{j}$\n",
        "\n",
        "\n",
        "\n"
      ]
    },
    {
      "cell_type": "markdown",
      "metadata": {
        "id": "dE7pSL5glnRf"
      },
      "source": [
        "# **Decomposition**\n",
        "* Tìm tất cả các cặp số $(i, j)$ hợp lệ.\n",
        "* Với mỗi cặp $(i, j)$ cho trước, tính tổng $S_{i,j}$.\n",
        "* Xác định tổng $S_{i,j}$ nào lớn nhất và xem nó tương ứng với cặp $(i, j)$ nào.\n",
        "\n"
      ]
    },
    {
      "cell_type": "markdown",
      "metadata": {
        "id": "WYiCm1vvni3c"
      },
      "source": [
        "# **Pattern Recognition**\n",
        "\n",
        "* Khi tính tổng $S_{i,j}$ cho cặp số $(i, j)$, chúng ta có thể dùng lại kết quả của $S_{1,i-1}$ và $S_{1,j}$.\n",
        "* Cụ thể: \n",
        "\n",
        "\\begin{align}\n",
        "S_{i,j} &= a_{i} + a_{i+1} + ... + a_{j-1} + a_{j} \\\\\n",
        "&= (a_{1} + a_{2} + ... + a_{j-1} + a_{j}) - (a_{1} + a_{2} + ... + a_{i-2} + a_{i-1}) \\\\\n",
        "&= S_{1,j} - S_{1,i-1}\n",
        "\\end{align}\n",
        "\n",
        "* Vậy trong quá trình giải quyết bài toán, ta chỉ cần tính $S_{1,1}, S_{1,2}, ..., S_{1,n}$ thay vì $S_{i,j}$ với mọi cặp $(i, j)$.\n"
      ]
    },
    {
      "cell_type": "markdown",
      "metadata": {
        "id": "1UiPt5bPr1QB"
      },
      "source": [
        "# **Algorithm Design & Programming**"
      ]
    },
    {
      "cell_type": "code",
      "metadata": {
        "colab": {
          "base_uri": "https://localhost:8080/"
        },
        "id": "pBo9d2VYZwSY",
        "outputId": "476125ec-c9a9-4a4a-9adf-fd3f2e798ea9"
      },
      "source": [
        "n = int(input())\n",
        "a = [int(x) for x in input().split()]\n",
        "a = [0] + a\n",
        "for i in range(1, n+1):\n",
        "    a[i] = a[i-1] + a[i]\n",
        "l, r = 0, 1\n",
        "lmin, rmax = 0, 1\n",
        "for i in range(1, n+1):\n",
        "    if a[lmin] > a[i]:\n",
        "        lmin = i\n",
        "    if a[r] - a[l] < a[i] - a[lmin]:\n",
        "        l = lmin\n",
        "        r = i\n",
        "print(l+1, r, a[r]-a[l])"
      ],
      "execution_count": null,
      "outputs": [
        {
          "output_type": "stream",
          "text": [
            "16\n",
            "2 -4 5 -8 4 -1 -1 1 1 1 -2 2 4 -6 9 -4\n",
            "5 15 12\n"
          ],
          "name": "stdout"
        }
      ]
    }
  ]
}