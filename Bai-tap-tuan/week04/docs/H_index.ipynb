{
  "nbformat": 4,
  "nbformat_minor": 0,
  "metadata": {
    "colab": {
      "name": "H_index.ipynb",
      "provenance": [],
      "collapsed_sections": [],
      "toc_visible": true
    },
    "kernelspec": {
      "name": "python3",
      "display_name": "Python 3"
    },
    "language_info": {
      "name": "python"
    }
  },
  "cells": [
    {
      "cell_type": "markdown",
      "metadata": {
        "id": "view-in-github"
      },
      "source": [
        "<a href=\"https://colab.research.google.com/github/minhphuongzzz/CS112.L21.KHTN/blob/main/H_index.ipynb\" target=\"_parent\"><img src=\"https://colab.research.google.com/assets/colab-badge.svg\" alt=\"Open In Colab\"/></a>"
      ]
    },
    {
      "cell_type": "markdown",
      "metadata": {
        "id": "lPh6AKP049BJ"
      },
      "source": [
        "#**Đề bài:**\n",
        "Làm thế nào để đánh giá sự thành công của một nhà khoa học?  Dựa vào số bài báo được công bố hay dựa vào số lần một bài báo được trích dẫn tới ở công trình của những người khác? Cả hai tham số đó đều quan trọng.\n",
        "\n",
        "Một bài báo có điểm số trích dẫn là c nếu nó được trích dẫn tới c lần trong các công trình của những nhà khoa học khác. Một trong số các cách đánh giá sự thành công của một nhà khoa học là tính chỉ số ảnh hưởng H_Index dựa trên sự kết hợp giữa số lượng bài báo và chỉ số trích dẫn của các bài báo đó.\n",
        "\n",
        "Chỉ số H_Index của một nhà khoa học bằng k lớn nhất nếu người đó có k bài báo, mỗi bài có điểm số trích dẫn không nhỏ hơn k. Ví dụ, một người có 10 bài báo, mỗi bài báo được trích dẫn không dưới 10 lần thì H_Index của người đó ít nhất là bằng 10.\n",
        "\n",
        "Một người có n bài báo, bài báo thứ i có điểm trích dẫn là ci, i = 1 ÷ n. Hãy xác định H_Index của người đó.\n",
        "\n",
        "**Dữ liệu:** Vào từ thiết bị nhập chuẩn:\n",
        "\n",
        "Dòng đầu tiên chứa một số nguyên n (1 ≤ n ≤ 5×105),\n",
        "Dòng thứ 2 chứa n số nguyên c1, c2, . . ., cn (0 ≤ ci ≤ 106, i = 1 ÷ n).\n",
        "Kết quả: Đưa ra thiết bị xuất chuẩn một số nguyên – H_Index tìm được.\n",
        "\n",
        "**Ví dụ:**\n",
        "\n",
        "INPUT\n",
        "\n",
        "5\n",
        "\n",
        "8 5 3 4 10\n",
        "\n",
        "OUTPUT\n",
        "\n",
        "4\n",
        "\n"
      ]
    },
    {
      "cell_type": "markdown",
      "metadata": {
        "id": "IG5q54vKDKwj"
      },
      "source": [
        "#**Abstraction**\n",
        "Cho _**n**_ số nguyên $c_{1}, c_{2}, . . ., c_{n}$ (0 ≤ $c_{i}$ ≤ $10^{6}$, _**i**_ = 1 ÷ _**n**_), hãy tìm số _**k**_ lớn nhất sao cho có _**k**_ số trong _**n**_ số trên không nhỏ hơn _**k**_.\n"
      ]
    },
    {
      "cell_type": "markdown",
      "metadata": {
        "id": "7sODE_dRDMLt"
      },
      "source": [
        "#**Pattern Recognition**\n",
        "Sắp xếp lại n số nguyên trên theo thứ tự giảm dần, ta được dãy số $a_{1}, a_{2}, . . ., a_{n}$ (0 ≤ $a_{i}$ ≤ $10^{6}$, i = 1 ÷ n) giảm dần. Khi đó, bài toán sẽ trở thành tìm vị trí k đầu tiên trong dãy số $(a_{i})$ sao cho $a_{k} <= k$.\n",
        "\n",
        " "
      ]
    },
    {
      "cell_type": "markdown",
      "metadata": {
        "id": "i-92wgrEDNvu"
      },
      "source": [
        "#**Algorithm Design**\n"
      ]
    },
    {
      "cell_type": "code",
      "metadata": {
        "id": "ghr-V5QkfU97"
      },
      "source": [
        "n = int(input())\n",
        "a = [int(i) for i in input().split()]\n",
        "\n",
        "a.sort(reverse=True)\n",
        "for i in range(1,n):\n",
        "      if (a[i] < i):\n",
        "          print(i-1)\n",
        "          break"
      ],
      "execution_count": null,
      "outputs": []
    },
    {
      "cell_type": "markdown",
      "metadata": {
        "id": "9FWFrJzhfTeR"
      },
      "source": [
        "#**Độ phức tạp**\n",
        "$O(nlog(n))$.\n"
      ]
    }
  ]
}