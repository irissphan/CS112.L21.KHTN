{
  "nbformat": 4,
  "nbformat_minor": 0,
  "metadata": {
    "colab": {
      "name": "soNguyenMoi.ipynb",
      "provenance": [],
      "collapsed_sections": []
    },
    "kernelspec": {
      "name": "python3",
      "display_name": "Python 3"
    },
    "language_info": {
      "name": "python"
    }
  },
  "cells": [
    {
      "cell_type": "markdown",
      "metadata": {
        "id": "view-in-github"
      },
      "source": [
        "<a href=\"https://colab.research.google.com/github/irissphan/CS112.L21.KHTN/blob/G%C3%AC-c%C5%A9ng-%C4%91%C6%B0%E1%BB%A3c/soNguyenMoi.ipynb\" target=\"_parent\"><img src=\"https://colab.research.google.com/assets/colab-badge.svg\" alt=\"Open In Colab\"/></a>"
      ]
    },
    {
      "cell_type": "markdown",
      "metadata": {
        "id": "g1ZYiaud6hWv"
      },
      "source": [
        "#**Đề bài**\n",
        "Cho số nguyên dương n có không quá 100 chữ số. Hãy xác định số nguyên lớn nhất m chia hết cho 3 và khác n ở đúng một chữ số.\n",
        "\n",
        "Ví dụ, n = 123 thì m sẽ là 723.\n",
        "\n",
        "**Dữ liệu:** Vào từ thiết bị nhập chuẩn gồm một dòng chứa số nguyên n có không quá 100 chữ số và không chứa các số 0 không có nghĩa.\n",
        "\n",
        "**Kết quả:** Đưa ra thiết bị xuất chuẩn số nguyên m tìm được.\n",
        "\n",
        "Ví dụ:\n",
        "\n",
        "INPUT\n",
        "\n",
        "123\n",
        "\n",
        "OUTPUT\n",
        "\n",
        "723\n",
        "\n"
      ]
    },
    {
      "cell_type": "markdown",
      "metadata": {
        "id": "5TfOdwrtGnWv"
      },
      "source": [
        "#**Abstraction**\n",
        "Cho số nguyên dương **_n_** có không quá 100 chữ số. Hãy xác định số nguyên lớn nhất **_m_** chia hết cho 3 và khác **_n_** ở đúng một chữ số.\n",
        "\n"
      ]
    },
    {
      "cell_type": "markdown",
      "metadata": {
        "id": "TUPyUyPVGon3"
      },
      "source": [
        "#**Decomposition**\n",
        "- Ta sẽ thay đổi **duy nhất 1 chữ số**, thay đổi ở đây có nghĩ là thay chữ số này thành chữ số lớn nhất để tổng các chữ số trong ***n*** chia hết cho 3, sau khi thay đổi thì chữ số mới này **lớn hơn** chữ số ban đầu.\n",
        "- Để số mới là số lớn nhất và chia hết cho 3, ta sẽ thay đổi chữ số đầu tiên của ***n*** (nếu được). \n",
        "- Nếu không được, ta sẽ thay đổi chữ số tiếp theo (Nếu được).\n",
        "- Nếu không được, ta tiếp tục thay đổi chữ số tiếp theo (nếu được)....\n",
        "- Nếu đến chữ số cuối cùng của ***n*** vẫn không thay đổi được, ta sẽ trừ ***n*** một số ***r*** là số dư khi ***n*** chia cho 3 (***r*** $\\in$ {1,2,3}). Khi đó ta sẽ được số ***m*** là số nguyên lớn nhất thỏa điều kiện.\n",
        "\n"
      ]
    },
    {
      "cell_type": "markdown",
      "metadata": {
        "id": "_GINDglgGp8y"
      },
      "source": [
        "#**Pattern Recognition**\n",
        "Ta thực hiện vòng lặp duyệt các chữ số của ***n*** từ chữ số đầu tới khi có 1 chữ số được thay đổi.\n",
        "\n",
        "Nếu có thể thay đổi, ta dừng vòng lặp và xuất ra kết quả.\n",
        "\n",
        "Nếu đến chữ số cuối cùng mà chưa thay đổi, xuất ra ***n*** - ***r*** ( với ***r*** là số dư khi ***n*** chia cho 3 (***r*** $\\in$ {1,2,3})\n",
        "\n"
      ]
    },
    {
      "cell_type": "markdown",
      "metadata": {
        "id": "ucppyBAjGsnr"
      },
      "source": [
        "#**Algorithm Design**\n"
      ]
    },
    {
      "cell_type": "code",
      "metadata": {
        "colab": {
          "base_uri": "https://localhost:8080/"
        },
        "id": "Sfsvzdrz6d60",
        "outputId": "a4fe13a2-ce92-414c-a70b-33b529661e16"
      },
      "source": [
        "x = input()\n",
        "res = 0\n",
        "\n",
        "for i in range(len(x)):\n",
        "    for digit in range(0, 10):\n",
        "        if digit != int(x[i]):\n",
        "            tmp = x[:i] + str(digit) + x[i+1:]\n",
        "            if int(tmp) % 3 == 0:\n",
        "                res = max(res, int(tmp))\n",
        "\n",
        "print(res)"
      ],
      "execution_count": null,
      "outputs": [
        {
          "output_type": "stream",
          "text": [
            "123\n",
            "723\n"
          ],
          "name": "stdout"
        }
      ]
    }
  ]
}