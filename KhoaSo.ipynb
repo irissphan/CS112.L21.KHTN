{
  "nbformat": 4,
  "nbformat_minor": 0,
  "metadata": {
    "colab": {
      "name": "KhoaSo.ipynb",
      "provenance": [],
      "authorship_tag": "ABX9TyNr2wQhAYdBkYI1F1RtIxxj",
      "include_colab_link": true
    },
    "kernelspec": {
      "name": "python3",
      "display_name": "Python 3"
    },
    "language_info": {
      "name": "python"
    }
  },
  "cells": [
    {
      "cell_type": "markdown",
      "metadata": {
        "id": "view-in-github",
        "colab_type": "text"
      },
      "source": [
        "<a href=\"https://colab.research.google.com/github/minhphuongzzz/CS112.L21.KHTN/blob/main/KhoaSo.ipynb\" target=\"_parent\"><img src=\"https://colab.research.google.com/assets/colab-badge.svg\" alt=\"Open In Colab\"/></a>"
      ]
    },
    {
      "cell_type": "markdown",
      "metadata": {
        "id": "NtnqgQZ5g5Ye"
      },
      "source": [
        "#**Đề bài**\n",
        "Để tăng độ an toàn chống hiện tượng cướp ngân hàng ngày càng phổ biến người ta dùng khóa số với mã mở khóa đơn giản nhưng rất hiệu quả. Trên cửa ra vào hiển thị một xâu khá dài các ký tự số. Các chữ số có thể di chuyển đổi chổ cho nhau hoặc bị xóa. Muốn mở khóa người ta phải di chuyển các chữ số và trong trường hợp cần thiết – xóa vài chữ số để nhận được xâu lớn nhất thỏa mãn điều kiện đã cài đặt. Điều kiện này được thay đổi thường xuyên. Hôm nay điều kiện đó là “Số nhận được phải chia hết cho 3”. Số nhận được có thể bắt đầu bằng các chữ số 0. Xâu “000” sẽ lớn hơn xâu “00”.\n",
        "\n",
        "Hãy xác định khóa mở cửa.\n",
        "\n",
        "**Dữ liệu** Vào từ thiết bị nhập chuẩn gồm một xâu ký tự số có độ dài lớn hơn 2 và không vượt quá 105.\n",
        "\n",
        "**Kết quả:** Đưa ra thiết bị xuất chuẩn xâu khóa mở cửa\n",
        "**Ví dụ:**\n",
        "\n",
        "INPUT\n",
        "\n",
        "105\n",
        "\n",
        "OUTPUT\n",
        "\n",
        "510\n",
        "#**Abstraction**\n",
        "Từ xâu ký tự số có độ dài lớn hơn 2 và không vượt quá 105, hãy biến đổi (ghép, sắp xếp, bỏ đi một vài số) để tạo thành số tự nhiên lớn nhất chia hết cho 3.\n",
        "#**Pattern Recognition**\n",
        "Xét *sum* là tổng các chữ số:\n",
        "\n",
        "$sum \\equiv 0 \\pmod 3$: output chính là số được tạo bởi các chữ số ban đầu, theo thứ tự giảm dần từ trái sang phải.\n",
        "\n",
        "$sum \\equiv 1 \\pmod 3$: xóa 1 số nhỏ nhất chia cho 3 dư 1 hoặc xóa 2 số nhỏ nhất chia cho 3 dư 2.\n",
        "\n",
        "$sum \\equiv 2 \\pmod 3$: xóa 1 số nhỏ nhất chia cho 3 dư 2 hoặc xóa 2 số nhỏ nhất chia cho 3 dư 1.\n",
        "#**Algorithm Design**\n"
      ]
    },
    {
      "cell_type": "code",
      "metadata": {
        "id": "OH2_XPjGjEFE"
      },
      "source": [
        "import io, os, sys\n",
        "\n",
        "s = sys.stdin.readline().strip()\n",
        "\n",
        "MOD = [0] * 100\n",
        "sum = 0\n",
        "\n",
        "for i in range(len(s)):\n",
        "    MOD[int(s[i])] += 1\n",
        "    sum += int(s[i])\n",
        "\n",
        "if sum % 3 == 1:\n",
        "    if MOD[1] + MOD[4] + MOD[7] >= 1:\n",
        "        MOD[1] -= 1\n",
        "        if MOD[1] < 0:\n",
        "            MOD[4] += MOD[1]\n",
        "            MOD[1] = 0\n",
        "        if MOD[4] < 0:\n",
        "            MOD[7] += MOD[4]\n",
        "            MOD[4] = 0\n",
        "    elif MOD[2] + MOD[5] + MOD[8] >= 2:\n",
        "        MOD[2] -= 2\n",
        "        if MOD[2] < 0:\n",
        "            MOD[5] += MOD[2]\n",
        "            MOD[2] = 0\n",
        "        if MOD[5] < 0:\n",
        "            MOD[8] += MOD[5]\n",
        "            MOD[5] = 0\n",
        "elif sum % 3 == 2:\n",
        "    if MOD[2] + MOD[5] + MOD[8] >= 1:\n",
        "        MOD[2] -= 1\n",
        "        if MOD[2] < 0:\n",
        "            MOD[5] += MOD[2]\n",
        "            MOD[2] = 0\n",
        "        if MOD[5] < 0:\n",
        "            MOD[8] += MOD[5]\n",
        "            MOD[5] = 0\n",
        "    elif MOD[1] + MOD[4] + MOD[7] >= 2:\n",
        "        MOD[1] -= 2\n",
        "        if MOD[1] < 0:\n",
        "            MOD[4] += MOD[1]\n",
        "            MOD[1] = 0\n",
        "        if MOD[4] < 0:\n",
        "            MOD[7] += MOD[4]\n",
        "            MOD[4] = 0\n",
        "\n",
        "for i in range(9, -1, -1):\n",
        "    sys.stdout.write(str(i) * MOD[i])"
      ],
      "execution_count": 3,
      "outputs": []
    }
  ]
}