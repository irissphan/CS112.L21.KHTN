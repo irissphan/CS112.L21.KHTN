{
  "nbformat": 4,
  "nbformat_minor": 0,
  "metadata": {
    "colab": {
      "name": "heThongCapNuoc.ipynb",
      "provenance": [],
      "include_colab_link": true
    },
    "kernelspec": {
      "name": "python3",
      "display_name": "Python 3"
    },
    "language_info": {
      "name": "python"
    }
  },
  "cells": [
    {
      "cell_type": "markdown",
      "metadata": {
        "id": "view-in-github",
        "colab_type": "text"
      },
      "source": [
        "<a href=\"https://colab.research.google.com/github/irissphan/CS112.L21.KHTN/blob/G%C3%AC-c%C5%A9ng-%C4%91%C6%B0%E1%BB%A3c/heThongCapNuoc.ipynb\" target=\"_parent\"><img src=\"https://colab.research.google.com/assets/colab-badge.svg\" alt=\"Open In Colab\"/></a>"
      ]
    },
    {
      "cell_type": "markdown",
      "metadata": {
        "id": "vfmQvBcQ7aMW"
      },
      "source": [
        "#**Đề bài**\n",
        "Vùng đất diệu kỳ Wonderland có N hộ gia đình đã được trang bị một hệ thống cung cấp nước sạch đến từng ngôi nhà. Mỗi đường ống nối trực tiếp 2 nhà, nước chảy trong đường ống theo 2 chiều, có thể truyền qua nhiều trung gian trước khi đến một nhà nào đó. Trong hồ sơ lưu trữ, các ngôi nhà được ghi số từ 1 đến N.\n",
        "\n",
        "Một trận động đất đã gây nên sự cố nghiêm trọng làm cho cả vùng bị chia cắt thành nhiều khu vực rời nhau, không còn tiếp cận được với nguồn nước. Để khắc phục, những người có trách nhiệm đã khảo sát hiện trạng và ghi nhận được toàn vùng đất đang thảm họa vẫn còn M đường ống đang hoạt động tốt.\n",
        "\n",
        "Nhiệm vụ đặt ra là phải khôi phục hệ thống cấp nước bằng cách lắp thêm một số đường ống. Tuy nhiên, do hạn chế về thời gian và kinh phí nên đòi hỏi phương án khôi phục phải được thực hiện với ít đường ống được lắp thêm nhất. Câu hỏi đặt ra: cần lắp thêm ít nhất bao nhiêu đường ống để hệ thống cấp nước có thể đưa nước đến từng ngôi nhà. Câu hỏi phụ: có bao nhiêu phương án khác nhau đáp ứng yêu cầu; số phương án có thể khá lớn nên chỉ cần đưa ra số dư khi chia cho 109+7.\n",
        "\n",
        "**Dữ liệu:**\n",
        "\n",
        "Vào từ thiết bị nhập chuẩn:\n",
        "\n",
        "Dòng đầu tiên chứa 2 số nguyên N, M (1 ≤ N, M  ≤ 105)\n",
        "\n",
        "Mỗi dòng trong M dòng tiếp theo chứa 2 số nguyên a, b (1 ≤ a,  b ≤ N). cho biết vẫn còn đường ống nối nhà a với nhà b\n",
        "\n",
        "**Kết quả:**\n",
        "\n",
        " Đưa ra thiết bị xuất chuẩn số đường ống cần được lắp thêm và số phương án đáp ứng yêu cầu (theo mô đun 109+7) mỗi số trên một dòng.\n",
        "\n",
        "**Dữ liệu mẫu:**\n",
        "\n",
        "INPUT\n",
        "\n",
        "3 1\n",
        "\n",
        "1 2\n",
        "\n",
        "OUTPUT\n",
        "\n",
        "1\n",
        "\n",
        "2\n",
        "\n"
      ]
    },
    {
      "cell_type": "code",
      "metadata": {
        "id": "ZCbhE6ar7YO_"
      },
      "source": [
        ""
      ],
      "execution_count": null,
      "outputs": []
    }
  ]
}